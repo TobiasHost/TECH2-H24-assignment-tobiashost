{
 "cells": [
  {
   "cell_type": "markdown",
   "metadata": {},
   "source": [
    "# TECH 2 mandatory assignment - Part B\n",
    "\n",
    "Write your solution for Part B in this notebook."
   ]
  },
  {
   "cell_type": "code",
   "execution_count": 3,
   "metadata": {},
   "outputs": [
    {
     "name": "stdout",
     "output_type": "stream",
     "text": [
      "runtime loops was 2.6941299438476562e-05, runtimeBuiltin was 1.7881393432617188e-05, runtime std was 0.0003292560577392578 for the list containing 10000 elements\n",
      "runtime loops was 0.0001380443572998047, runtimeBuiltin was 0.00011587142944335938, runtime std was 0.00015616416931152344 for the list containing 1000 elements\n",
      "runtime loops was 0.0013279914855957031, runtimeBuiltin was 0.0011610984802246094, runtime std was 0.00042891502380371094 for the list containing 100 elements\n"
     ]
    }
   ],
   "source": [
    "import part_A\n",
    "import csv\n",
    "import time\n",
    "\n",
    "def load_data(filename):\n",
    "    col1, col2, col3 = [], [], []\n",
    "\n",
    "    with open(filename, newline= '') as csvFile:\n",
    "        csvreader = csv.reader(csvFile)\n",
    "\n",
    "        for row in csvreader:\n",
    "\n",
    "            col1.append(float(row[0]) if len(row) > 0 and row[0] != \"\" else None)\n",
    "            col2.append(float(row[1]) if len(row) > 0 and row[1] != \"\" else None)\n",
    "            col3.append(float(row[2]) if len(row) > 0 and row[2] != \"\" else None)\n",
    "\n",
    "    return col1, col2, col3\n",
    "\n",
    "list1, list2, list3 = load_data(\"data.csv\")\n",
    "\n",
    "list1 = [item for item in list1 if item is not None]\n",
    "list2 = [item for item in list2 if item is not None]\n",
    "list3 = [item for item in list3 if item is not None]\n",
    "\n",
    "\n",
    "def record_runtime(x):\n",
    "\n",
    "    start_time1 = time.time()\n",
    "    part_A.std_loops(x)\n",
    "    total_time1 = time.time() - start_time1\n",
    "\n",
    "    start_time2 = time.time()\n",
    "    part_A.std_builtin(x)\n",
    "    total_time2 = time.time() - start_time2\n",
    "\n",
    "    start_time3 = time.time()\n",
    "    part_A.std(x)\n",
    "    total_time3 = time.time() - start_time3\n",
    "\n",
    "    return total_time1, total_time2, total_time3\n",
    "\n",
    "runtimeLoops, runtimeBuiltin, runtimestd = record_runtime(list1)\n",
    "print(f\"runtime loops was {runtimeLoops}, runtimeBuiltin was {runtimeBuiltin}, runtime std was {runtimestd} for the list containing 10000 elements\")\n",
    "\n",
    "runtimeLoops, runtimeBuiltin, runtimestd = record_runtime(list2)\n",
    "print(f\"runtime loops was {runtimeLoops}, runtimeBuiltin was {runtimeBuiltin}, runtime std was {runtimestd} for the list containing 1000 elements\")\n",
    "\n",
    "runtimeLoops, runtimeBuiltin, runtimestd = record_runtime(list3)\n",
    "print(f\"runtime loops was {runtimeLoops}, runtimeBuiltin was {runtimeBuiltin}, runtime std was {runtimestd} for the list containing 100 elements\")\n"
   ]
  }
 ],
 "metadata": {
  "kernelspec": {
   "display_name": "base",
   "language": "python",
   "name": "python3"
  },
  "language_info": {
   "codemirror_mode": {
    "name": "ipython",
    "version": 3
   },
   "file_extension": ".py",
   "mimetype": "text/x-python",
   "name": "python",
   "nbconvert_exporter": "python",
   "pygments_lexer": "ipython3",
   "version": "3.12.4"
  }
 },
 "nbformat": 4,
 "nbformat_minor": 2
}
